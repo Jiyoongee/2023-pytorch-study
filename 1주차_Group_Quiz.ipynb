{
  "nbformat": 4,
  "nbformat_minor": 0,
  "metadata": {
    "colab": {
      "provenance": []
    },
    "kernelspec": {
      "name": "python3",
      "display_name": "Python 3"
    },
    "language_info": {
      "name": "python"
    }
  },
  "cells": [
    {
      "cell_type": "markdown",
      "source": [
        "# 1."
      ],
      "metadata": {
        "id": "2C05h7pOVxzX"
      }
    },
    {
      "cell_type": "code",
      "source": [
        "import numpy as np\n",
        "import torch\n",
        "import torch.optim as optim\n",
        "import torch.nn as nn"
      ],
      "metadata": {
        "id": "fOraUHdUYbrA"
      },
      "execution_count": 3,
      "outputs": []
    },
    {
      "cell_type": "code",
      "source": [
        "import time\n",
        "def timer(func):\n",
        "  def wrapper(*args, **kwargs):\n",
        "    start_time = time.time()\n",
        "    result = func(*args, **kwargs)\n",
        "    end_time = time.time()\n",
        "    computation_time = end_time - start_time\n",
        "    print(f\"Execution time of {func.__name__}: {computation_time} seconds\")\n",
        "    return result\n",
        "  return wrapper"
      ],
      "metadata": {
        "id": "27HIIhTUYXcI"
      },
      "execution_count": 4,
      "outputs": []
    },
    {
      "cell_type": "code",
      "execution_count": 5,
      "metadata": {
        "colab": {
          "base_uri": "https://localhost:8080/"
        },
        "id": "zn9AurwTViMs",
        "outputId": "cee0499a-4ee1-4fdb-82db-c5821a6501af"
      },
      "outputs": [
        {
          "output_type": "stream",
          "name": "stdout",
          "text": [
            "Execution time of train_model_torch: 0.34561967849731445 seconds\n",
            "tensor(0.0098, dtype=torch.float64, grad_fn=<MseLossBackward0>)\n"
          ]
        }
      ],
      "source": [
        "true_b = 1\n",
        "true_w = 2\n",
        "\n",
        "N = 100\n",
        "\n",
        "np.random.seed(42)\n",
        "x = np.random.rand(N,1)  # Uniform\n",
        "epsilon = (0.1 * np.random.randn(N,1))  # standard normal dist  # noise\n",
        "y = true_b + true_w * x + epsilon  # data genneration\n",
        "\n",
        "# Shuffles the indices\n",
        "idx = np.arange(N)\n",
        "split_index = int(N * 0.8)\n",
        "\n",
        "train_idx = idx[:split_index]\n",
        "val_idx = idx[split_index:]\n",
        "\n",
        "# Generates train and validation sets\n",
        "x_train, y_train = x[train_idx], y[train_idx]\n",
        "x_val, y_val = x[val_idx], y[val_idx]\n",
        "\n",
        "# create tensor ar GPU:\n",
        "device = 'cuda' if torch.cuda.is_available() else 'cpu'\n",
        "x_train_tensor = torch.as_tensor(x_train).to(device)\n",
        "y_train_tensor = torch.as_tensor(y_train).to(device)\n",
        "\n",
        "x_val_tensor = torch.as_tensor(x_val).to(device)\n",
        "y_val_tensor = torch.as_tensor(y_val).to(device)\n",
        "\n",
        "@timer\n",
        "def train_model_torch(lr = 0.1, epochs=1000):\n",
        "  # Initialize parameters\n",
        "  b_hat = torch.randn(1, requires_grad = True, dtype = torch.float, device = device)\n",
        "  w_hat = torch.randn(1, requires_grad = True, dtype = torch.float, device = device)\n",
        "\n",
        "  for epoch in range(epochs):\n",
        "    # Loss computation\n",
        "    y_hat = b_hat + w_hat * x_train_tensor\n",
        "    error = (y_hat - y_train_tensor)\n",
        "    mse_loss = torch.mean(error ** 2)\n",
        "    # Gradient computation and descent\n",
        "    mse_loss.backward()\n",
        "    with torch.no_grad():\n",
        "      b_hat -= lr * b_hat.grad\n",
        "      w_hat -= lr * w_hat.grad\n",
        "    b_hat.grad.zero_()\n",
        "    w_hat.grad.zero_()\n",
        "\n",
        "  mse_loss = nn.MSELoss()\n",
        "  y_hat = b_hat + w_hat * x_val_tensor\n",
        "  loss = mse_loss(y_hat, y_val_tensor)\n",
        "  return b_hat, w_hat, loss\n",
        "\n",
        "b_hat, w_hat, loss = train_model_torch()\n",
        "print(loss)"
      ]
    },
    {
      "cell_type": "markdown",
      "source": [
        "# 2."
      ],
      "metadata": {
        "id": "oG6vSEJLV8Og"
      }
    },
    {
      "cell_type": "code",
      "source": [
        "import pickle\n",
        "# 데이터 로드\n",
        "with open('quiz_data.pkl', 'rb') as f:\n",
        "\tdata = pickle.load(f)\n",
        "\n",
        "x = data[\"x\"]\n",
        "y = data[\"y\"]\n",
        "\n",
        "# Shuffles the indices\n",
        "idx = np.arange(100)\n",
        "split_index = int(100 * 0.8)\n",
        "\n",
        "train_idx = idx[:split_index]\n",
        "val_idx = idx[split_index:]\n",
        "\n",
        "# Generates train and validation sets\n",
        "x_train, y_train = x[train_idx], y[train_idx]\n",
        "x_val, y_val = x[val_idx], y[val_idx]\n",
        "\n",
        "# create tensor ar GPU:\n",
        "device = 'cuda' if torch.cuda.is_available() else 'cpu'\n",
        "x_train_tensor = torch.as_tensor(x_train).to(device)\n",
        "y_train_tensor = torch.as_tensor(y_train).to(device)\n",
        "\n",
        "x_val_tensor = torch.as_tensor(x_val).to(device)\n",
        "y_val_tensor = torch.as_tensor(y_val).to(device)\n",
        "\n",
        "sum = 0\n",
        "for i in range(10):\n",
        "\n",
        "  def train_model_torch(lr = 0.1, epochs=1000):\n",
        "    # Initialize parameters\n",
        "    b = torch.randn(1, requires_grad = True, dtype = torch.float, device = device)\n",
        "    w = torch.randn(1, requires_grad = True, dtype = torch.float, device = device)\n",
        "    w2 = torch.randn(1, requires_grad = True, dtype = torch.float, device = device)\n",
        "    w3 = torch.randn(1, requires_grad = True, dtype = torch.float, device = device)\n",
        "    w4 = torch.randn(1, requires_grad = True, dtype = torch.float, device = device)\n",
        "    w5 = torch.randn(1, requires_grad = True, dtype = torch.float, device = device)\n",
        "    w6 = torch.randn(1, requires_grad = True, dtype = torch.float, device = device)\n",
        "    w7 = torch.randn(1, requires_grad = True, dtype = torch.float, device = device)\n",
        "\n",
        "    for epoch in range(epochs):\n",
        "      # Loss computation\n",
        "      y_hat = b + w * x_train_tensor + w2 * x_train_tensor ** 2 + w3 * x_train_tensor ** 3 + w4 * x_train_tensor ** 4 + w5 * x_train_tensor ** 5 + w6 * x_train_tensor ** 6 + w7 * x_train_tensor ** 7\n",
        "      error = (y_hat - y_train_tensor)\n",
        "      mse_loss = torch.mean(error ** 2)\n",
        "      # Gradient computation and descent\n",
        "      mse_loss.backward()\n",
        "      with torch.no_grad():\n",
        "        b -= lr * b.grad\n",
        "        w -= lr * w.grad\n",
        "        w2 -= lr * w2.grad\n",
        "        w3 -= lr * w3.grad\n",
        "        w4 -= lr * w4.grad\n",
        "        w5 -= lr * w5.grad\n",
        "        w6 -= lr * w6.grad\n",
        "        w7 -= lr * w7.grad\n",
        "      b.grad.zero_()\n",
        "      w.grad.zero_()\n",
        "      w2.grad.zero_()\n",
        "      w3.grad.zero_()\n",
        "      w4.grad.zero_()\n",
        "      w5.grad.zero_()\n",
        "      w6.grad.zero_()\n",
        "      w7.grad.zero_()\n",
        "\n",
        "    mse_loss = nn.MSELoss()\n",
        "    y_hat = b + w * x_val_tensor + w2 * x_val_tensor ** 2 + w3 * x_val_tensor ** 3 + w4 * x_val_tensor ** 4 + w5 * x_val_tensor ** 5  + w6 * x_val_tensor ** 6 + w7 * x_val_tensor ** 7\n",
        "    loss = mse_loss(y_hat, y_val_tensor)\n",
        "    return b, w, w2, w3, w4, w5, w6, w7, loss\n",
        "\n",
        "  b, w, w2, w3, w4, w5, w6, w7, loss = train_model_torch()\n",
        "  sum += loss\n",
        "\n",
        "print(sum / 10)"
      ],
      "metadata": {
        "id": "FPUnV-1QV-fZ",
        "colab": {
          "base_uri": "https://localhost:8080/"
        },
        "outputId": "f04a184b-4b8f-41f3-9c91-0cbfbbc9facb"
      },
      "execution_count": 38,
      "outputs": [
        {
          "output_type": "stream",
          "name": "stdout",
          "text": [
            "tensor(0.1231, dtype=torch.float64, grad_fn=<DivBackward0>)\n"
          ]
        }
      ]
    }
  ]
}
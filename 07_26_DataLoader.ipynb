{
  "nbformat": 4,
  "nbformat_minor": 0,
  "metadata": {
    "colab": {
      "provenance": []
    },
    "kernelspec": {
      "name": "python3",
      "display_name": "Python 3"
    },
    "language_info": {
      "name": "python"
    }
  },
  "cells": [
    {
      "cell_type": "code",
      "source": [
        "# 드라이브 마운트\n",
        "from google.colab import drive\n",
        "drive.mount('/content/drive')"
      ],
      "metadata": {
        "id": "ByJoa8qKbtp_"
      },
      "execution_count": null,
      "outputs": []
    },
    {
      "cell_type": "code",
      "source": [
        "import numpy as np\n",
        "import torch\n",
        "from torch.utils.data import Dataset, DataLoader\n",
        "import cv2"
      ],
      "metadata": {
        "id": "zDSVLESEbrMQ"
      },
      "execution_count": null,
      "outputs": []
    },
    {
      "cell_type": "code",
      "execution_count": null,
      "metadata": {
        "id": "B7dK3fasbYyR"
      },
      "outputs": [],
      "source": [
        "class PBLDataset(Dataset):\n",
        "    def __init__(self, data_dir, train=True, transform = None):\n",
        "        # directory를 지정하거나, data load, trnasform 정의하기도 함\n",
        "\n",
        "        self.data_dir = data_dir\n",
        "\n",
        "        if train:\n",
        "          self.input_path = img_path_train\n",
        "          self.target_path = target_path_train\n",
        "        else:\n",
        "          self.input_path = img_path_valid\n",
        "          self.target_path = target_path_valid\n",
        "\n",
        "        if transform is None:\n",
        "          self.transform = torch.Tensor\n",
        "        else:\n",
        "          self.transform = transform\n",
        "\n",
        "        self.target = self.target_path\n",
        "\n",
        "    def __len__(self):  # dataset 길이 반환\n",
        "        return len(self.target)\n",
        "\n",
        "    def __getitem__(self, index):  # 주어진 index(idx)에 해당하는 데이터 반환(데이터 중 일부를 꺼내주는 역할)\n",
        "        # image의 경우 read 및 transform 후 반환\n",
        "\n",
        "        #self.target = self.target_path[index]\n",
        "        self.input = cv2.imread(self.input_path[index])\n",
        "        img = self.transform(self.input)\n",
        "        label = self.transform(self.target[index])\n",
        "\n",
        "        return img, label"
      ]
    },
    {
      "cell_type": "code",
      "source": [
        "data_dir = '/content/drive/MyDrive/2023-deep-learning-study/'\n",
        "min_batch = 64"
      ],
      "metadata": {
        "id": "bl93NFTLbehX"
      },
      "execution_count": null,
      "outputs": []
    },
    {
      "cell_type": "code",
      "source": [
        "custom_train_data = PBLDataset(data_dir, train=True)\n",
        "custom_test_data = PBLDataset(data_dir, train=False)\n",
        "\n",
        "train_loader = DataLoader(dataset = custom_train_data, batch_size = min_batch, shuffle=True)\n",
        "train_loader = DataLoader(dataset = custom_test_data, batch_size = min_batch, shuffle=False)"
      ],
      "metadata": {
        "id": "iSJfBqJsbgkZ"
      },
      "execution_count": null,
      "outputs": []
    },
    {
      "cell_type": "code",
      "source": [
        "x, y = next(iter(train_loader))"
      ],
      "metadata": {
        "id": "cUHo-O98bg7v"
      },
      "execution_count": null,
      "outputs": []
    },
    {
      "cell_type": "code",
      "source": [
        "x.shape"
      ],
      "metadata": {
        "id": "dOESWASrbohF"
      },
      "execution_count": null,
      "outputs": []
    }
  ]
}